{
 "cells": [
  {
   "cell_type": "markdown",
   "metadata": {},
   "source": [
    "## About Me Lab: AI Engineering, Data Analytics & Data Science\n",
    "\n",
    "In this notebook, you'll write a short introduction about yourself using Python!\n",
    "\n",
    "### Instructions:\n",
    "- Fill in the variables below with your details.\n",
    "- Run the cell to print your introduction.\n",
    "\n",
    "### What to Include:\n",
    "- Your name.\n",
    "- Why you're interested in AI Engineering, Data Analytics or Data Science.\n",
    "- A fun fact about yourself or a goal for this course.\n"
   ]
  },
  {
   "cell_type": "code",
   "execution_count": 7,
   "metadata": {},
   "outputs": [
    {
     "name": "stdout",
     "output_type": "stream",
     "text": [
      "Hi! My name is Marta Paulina Mamiaga Iyanga. I’m excited to learn because AI, Data Analytics, and Data Science combine technology, logic, and creativity to solve real-world problems. I want to understand how data can be used to improve talent, business strategy, sales, and decision-making — especially in diverse and global environments. Futher more, I’m fascinated by how data can be transformed into insights that support better decisions, I believe these fields are shaping the future of work and innovation, and I want to be part of that transformation . A fun fact about me is: I enjoy learning new things that challenge how I think. My goal for this course is to understand how data and AI can be used to create business strategies that positively impact companies, their talent, and their environments.\n"
     ]
    }
   ],
   "source": [
    "# About Me\n",
    "# Please fill in the following details.\n",
    "\n",
    "name = \"Marta Paulina Mamiaga Iyanga\"\n",
    "reason = \"AI, Data Analytics, and Data Science combine technology, logic, and creativity to solve real-world problems. I want to understand how data can be used to improve talent, business strategy, sales, and decision-making — especially in diverse and global environments. Futher more, I’m fascinated by how data can be transformed into insights that support better decisions, I believe these fields are shaping the future of work and innovation, and I want to be part of that transformation \"\n",
    "fun_fact = \"I enjoy learning new things that challenge how I think. My goal for this course is to understand how data and AI can be used to create business strategies that positively impact companies, their talent, and their environments\"\n",
    "\n",
    "print(f\"Hi! My name is {name}. I’m excited to learn because {reason}. A fun fact about me is: {fun_fact}.\")"
   ]
  },
  {
   "cell_type": "markdown",
   "metadata": {},
   "source": []
  },
  {
   "cell_type": "markdown",
   "metadata": {},
   "source": [
    "**Exercise Report**\n",
    "\n",
    "**While completing this exercise, I noticed that the text output in Jupyter Notebook displayed some visual line breaks that affected readability.** **For example**, certain words appeared split between two lines — such as **“creativity”**, which **was shown as “creativit” on one line and “y” on the next**. I researched ways to improve the visual presentation of the output text and, as a result, decided to submit two versions of the code:\n",
    "The original version, exactly as required in the instructions.\n",
    "\n",
    "\n",
    "An improved version, where I used Markdown from IPython.display to create a cleaner and more visually appealing text output.\n",
    "\n",
    "\n",
    "My goal was to maintain the integrity of the content while enhancing the clarity and visual presentation of the final result.\n"
   ]
  },
  {
   "cell_type": "markdown",
   "metadata": {},
   "source": []
  },
  {
   "cell_type": "code",
   "execution_count": 9,
   "metadata": {},
   "outputs": [
    {
     "data": {
      "text/markdown": [
       "Hi! My name is **Marta Paulina Mamiaga Iyanga**. I’m excited to learn because AI, Data Analytics, and Data Science combine technology, logic, and creativity to solve real-world problems. I want to understand how data can be used to improve talent, business strategy, sales, and decision-making — especially in diverse and global environments. Futher more, I’m fascinated by how data can be transformed into insights that support better decisions, I believe these fields are shaping the future of work and innovation, and I want to be part of that transformation . A fun fact about me is: I enjoy learning new things that challenge how I think. My goal for this course is to understand how data and AI can be used to create business strategies that positively impact companies, their talent, and their environments."
      ],
      "text/plain": [
       "<IPython.core.display.Markdown object>"
      ]
     },
     "metadata": {},
     "output_type": "display_data"
    }
   ],
   "source": [
    "# About Me\n",
    "# Please fill in the following details.\n",
    "\n",
    "name = \"Marta Paulina Mamiaga Iyanga\"\n",
    "reason = \"AI, Data Analytics, and Data Science combine technology, logic, and creativity to solve real-world problems. I want to understand how data can be used to improve talent, business strategy, sales, and decision-making — especially in diverse and global environments. Futher more, I’m fascinated by how data can be transformed into insights that support better decisions, I believe these fields are shaping the future of work and innovation, and I want to be part of that transformation \"\n",
    "fun_fact = \"I enjoy learning new things that challenge how I think. My goal for this course is to understand how data and AI can be used to create business strategies that positively impact companies, their talent, and their environments\"\n",
    "\n",
    "from IPython.display import display, Markdown\n",
    "\n",
    "display(Markdown(f\"Hi! My name is **{name}**. I’m excited to learn because {reason}. A fun fact about me is: {fun_fact}.\"))\n",
    "\n",
    "\n"
   ]
  },
  {
   "cell_type": "markdown",
   "metadata": {},
   "source": [
    "**Exercise Report**\n",
    "  \n",
    "Here is an improved version, where I used Markdown from IPython.display to create a cleaner and more visually appealing text output."
   ]
  },
  {
   "cell_type": "code",
   "execution_count": null,
   "metadata": {},
   "outputs": [],
   "source": []
  }
 ],
 "metadata": {
  "kernelspec": {
   "display_name": "Python 3 (ipykernel)",
   "language": "python",
   "name": "python3"
  },
  "language_info": {
   "codemirror_mode": {
    "name": "ipython",
    "version": 3
   },
   "file_extension": ".py",
   "mimetype": "text/x-python",
   "name": "python",
   "nbconvert_exporter": "python",
   "pygments_lexer": "ipython3",
   "version": "3.13.7"
  }
 },
 "nbformat": 4,
 "nbformat_minor": 4
}
